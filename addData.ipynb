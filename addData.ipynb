{
 "cells": [
  {
   "cell_type": "code",
   "execution_count": 1,
   "id": "571db91b",
   "metadata": {},
   "outputs": [],
   "source": [
    "import firebase_admin"
   ]
  },
  {
   "cell_type": "code",
   "execution_count": 2,
   "id": "b99caebf",
   "metadata": {},
   "outputs": [],
   "source": [
    "from firebase_admin import db"
   ]
  },
  {
   "cell_type": "code",
   "execution_count": 3,
   "id": "35ca3c14",
   "metadata": {},
   "outputs": [],
   "source": [
    "from firebase_admin import credentials, firestore"
   ]
  },
  {
   "cell_type": "code",
   "execution_count": 4,
   "id": "6fb4d282",
   "metadata": {},
   "outputs": [],
   "source": [
    "import firebase_admin\n",
    "from firebase_admin import credentials\n",
    "\n",
    "try:\n",
    "    app = firebase_admin.get_app()\n",
    "except:\n",
    "    cred = credentials.Certificate(\"serviceAccountKey.json\")\n",
    "    firebase_admin.initialize_app(cred, {\"databaseURL\": \"https://faceattendancesystem-b673f-default-rtdb.firebaseio.com/\"})\n",
    "     \n",
    "\n",
    "ref = db.reference(\"students\", url = \"https://faceattendancesystem-b673f-default-rtdb.firebaseio.com/\")\n",
    "\n",
    "data = {\n",
    "    \n",
    "    \"123\":{\n",
    "        \"name\": \"Maria Sharapova\",\n",
    "        \"major\": \"tennis\",\n",
    "        \"starting_year\": 2017,\n",
    "        \"total_attendance\": 9,\n",
    "        \"year\": 4,\n",
    "        \"last_attendance_time\": \"2022-12-11 00:54:34\"\n",
    "    },\n",
    "    \n",
    "    \"456\":{\n",
    "        \"name\": \"Lionel Messi\",\n",
    "        \"major\": \"football\",\n",
    "        \"starting_year\": 2021,\n",
    "        \"total_attendance\": 12,\n",
    "        \"year\": 1,\n",
    "        \"last_attendance_time\": \"2022-12-11 00:54:34\"\n",
    "    },\n",
    "    \n",
    "    \"789\":{\n",
    "        \"name\": \"Virat Kohli\",\n",
    "        \"major\": \"cricket\",\n",
    "        \"starting_year\": 2020,\n",
    "        \"total_attendance\": 7,\n",
    "        \"year\": 2,\n",
    "        \"last_attendance_time\": \"2022-12-11 00:54:34\"\n",
    "    },\n",
    "    \n",
    "    \"100\":{\n",
    "        \"name\":\"Priya Gulati\",\n",
    "        \"major\":\"computer science\",\n",
    "        \"starting_year\": 2022,\n",
    "        \"total_attendance\": 9,\n",
    "        \"year\": 2,\n",
    "        \"last_attendance_time\": \"2022-11-11 00:57:33\"\n",
    "    }\n",
    "}\n",
    "\n",
    "for key,value in data.items():\n",
    "    ref.child(key).set(value)"
   ]
  },
  {
   "cell_type": "code",
   "execution_count": null,
   "id": "06ab91a8",
   "metadata": {},
   "outputs": [],
   "source": []
  }
 ],
 "metadata": {
  "kernelspec": {
   "display_name": "Python 3 (ipykernel)",
   "language": "python",
   "name": "python3"
  },
  "language_info": {
   "codemirror_mode": {
    "name": "ipython",
    "version": 3
   },
   "file_extension": ".py",
   "mimetype": "text/x-python",
   "name": "python",
   "nbconvert_exporter": "python",
   "pygments_lexer": "ipython3",
   "version": "3.9.13"
  }
 },
 "nbformat": 4,
 "nbformat_minor": 5
}
