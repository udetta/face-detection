{
 "cells": [
  {
   "cell_type": "code",
   "execution_count": 1,
   "id": "9c6b389d",
   "metadata": {},
   "outputs": [],
   "source": [
    "import cv2\n",
    "import face_recognition\n",
    "import pickle\n",
    "import os"
   ]
  },
  {
   "cell_type": "code",
   "execution_count": 2,
   "id": "e30d3a40",
   "metadata": {},
   "outputs": [],
   "source": [
    "import firebase_admin\n",
    "from firebase_admin import db\n",
    "from firebase_admin import credentials\n",
    "from firebase_admin import storage"
   ]
  },
  {
   "cell_type": "code",
   "execution_count": 3,
   "id": "eb19b09f",
   "metadata": {},
   "outputs": [],
   "source": [
    "try:\n",
    "    app = firebase_admin.get_app()\n",
    "except:\n",
    "    cred = credentials.Certificate(\"serviceAccountKey.json\")\n",
    "    firebase_admin.initialize_app(cred, {\"databaseURL\": \"https://faceattendancesystem-b673f-default-rtdb.firebaseio.com/\",\n",
    "                                        \"storageBucket\": \"faceattendancesystem-b673f.appspot.com\"})\n",
    "     "
   ]
  },
  {
   "cell_type": "code",
   "execution_count": 4,
   "id": "5ed86c12",
   "metadata": {},
   "outputs": [
    {
     "name": "stdout",
     "output_type": "stream",
     "text": [
      "['100.jpg', '123.png', '456.jpg', '789.jpg']\n",
      "['100', '123', '456', '789']\n"
     ]
    }
   ],
   "source": [
    "#IMPORTING THE STUDENT IMAGES\n",
    "folderPath = \"C:\\\\Users\\\\Priya\\\\face recognition\\\\images\"\n",
    "pathList = os.listdir(folderPath)\n",
    "print(pathList)\n",
    "imgList = []\n",
    "studentIds = []\n",
    "for path in pathList:\n",
    "    imgList.append(cv2.imread(os.path.join(folderPath,path)))\n",
    "    studentIds.append(os.path.splitext(path)[0])\n",
    "    \n",
    "    # ADD IMAGES TO THE DATABASE\n",
    "    fileName = f'{folderPath}/{path}'\n",
    "    bucket = storage.bucket()\n",
    "    blob = bucket.blob(fileName)\n",
    "    blob.upload_from_filename(fileName)\n",
    "    \n",
    "print(studentIds)"
   ]
  },
  {
   "cell_type": "code",
   "execution_count": 5,
   "id": "1beb3ccd",
   "metadata": {},
   "outputs": [
    {
     "name": "stdout",
     "output_type": "stream",
     "text": [
      "encoding started..\n",
      "encoding complete\n",
      "file saved\n"
     ]
    }
   ],
   "source": [
    "def findEncodings(imageList):\n",
    "    encodeList = []\n",
    "    for img in imageList:\n",
    "        #the color format is converted from BGR (used by OpenCV) to RGB (used by face_recognition) using cv2.cvtColor.\n",
    "        img = cv2.cvtColor(img,cv2.COLOR_BGR2RGB)\n",
    "        #The face_recognition.face_encodings function is then used to find the face encodings in the image. \n",
    "        #Since this function can return multiple encodings (if there are multiple faces in the image), \n",
    "        #[0] is used to select the first encoding in the list.\n",
    "        encode = face_recognition.face_encodings(img)[0]\n",
    "        encodeList.append(encode)\n",
    "    return encodeList\n",
    "\n",
    "print(\"encoding started..\")\n",
    "encodeListKnown = findEncodings(imgList)\n",
    "encodeListWithID = [encodeListKnown, studentIds]\n",
    "print(\"encoding complete\")\n",
    "\n",
    "file = open(\"encodeFile.p\",'wb')\n",
    "#Write the `encodeListWithID` object to the file\n",
    "pickle.dump(encodeListWithID,file)\n",
    "file.close()\n",
    "print(\"file saved\")"
   ]
  },
  {
   "cell_type": "code",
   "execution_count": null,
   "id": "28c6c137",
   "metadata": {},
   "outputs": [],
   "source": []
  }
 ],
 "metadata": {
  "kernelspec": {
   "display_name": "Python 3 (ipykernel)",
   "language": "python",
   "name": "python3"
  },
  "language_info": {
   "codemirror_mode": {
    "name": "ipython",
    "version": 3
   },
   "file_extension": ".py",
   "mimetype": "text/x-python",
   "name": "python",
   "nbconvert_exporter": "python",
   "pygments_lexer": "ipython3",
   "version": "3.9.13"
  }
 },
 "nbformat": 4,
 "nbformat_minor": 5
}
