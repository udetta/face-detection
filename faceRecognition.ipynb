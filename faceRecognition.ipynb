{
 "cells": [
  {
   "cell_type": "code",
   "execution_count": 1,
   "id": "3f8a196e",
   "metadata": {},
   "outputs": [
    {
     "name": "stdout",
     "output_type": "stream",
     "text": [
      "Microsoft Windows [Version 10.0.22621.1992]\r\n",
      "(c) Microsoft Corporation. All rights reserved.\r\n",
      "\r\n",
      "C:\\Users\\Priya\\face recognition>python --version\n",
      "Python 3.9.13\r\n",
      "\r\n",
      "C:\\Users\\Priya\\face recognition>"
     ]
    }
   ],
   "source": [
    "%%cmd\n",
    "python --version"
   ]
  },
  {
   "cell_type": "code",
   "execution_count": 2,
   "id": "fa3265fc",
   "metadata": {},
   "outputs": [
    {
     "name": "stdout",
     "output_type": "stream",
     "text": [
      "Requirement already satisfied: opencv-python in c:\\users\\priya\\anaconda3\\lib\\site-packages (4.8.0.74)\n",
      "Requirement already satisfied: numpy>=1.17.0 in c:\\users\\priya\\anaconda3\\lib\\site-packages (from opencv-python) (1.21.5)\n"
     ]
    }
   ],
   "source": [
    "! pip install opencv-python"
   ]
  },
  {
   "cell_type": "code",
   "execution_count": 16,
   "id": "278007fc",
   "metadata": {
    "scrolled": true
   },
   "outputs": [
    {
     "name": "stdout",
     "output_type": "stream",
     "text": [
      "Requirement already satisfied: face-recognition in c:\\users\\priya\\anaconda3\\lib\\site-packages (1.3.0)\n",
      "Requirement already satisfied: face-recognition-models>=0.3.0 in c:\\users\\priya\\anaconda3\\lib\\site-packages (from face-recognition) (0.3.0)\n",
      "Requirement already satisfied: Click>=6.0 in c:\\users\\priya\\anaconda3\\lib\\site-packages (from face-recognition) (8.0.4)\n",
      "Requirement already satisfied: dlib>=19.7 in c:\\users\\priya\\anaconda3\\lib\\site-packages (from face-recognition) (19.23.0)\n",
      "Requirement already satisfied: numpy in c:\\users\\priya\\anaconda3\\lib\\site-packages (from face-recognition) (1.21.5)\n",
      "Requirement already satisfied: Pillow in c:\\users\\priya\\anaconda3\\lib\\site-packages (from face-recognition) (9.2.0)\n",
      "Requirement already satisfied: colorama in c:\\users\\priya\\anaconda3\\lib\\site-packages (from Click>=6.0->face-recognition) (0.4.5)\n",
      "Note: you may need to restart the kernel to use updated packages.\n"
     ]
    }
   ],
   "source": [
    "pip install face-recognition"
   ]
  },
  {
   "cell_type": "code",
   "execution_count": 17,
   "id": "26644fbc",
   "metadata": {},
   "outputs": [
    {
     "name": "stdout",
     "output_type": "stream",
     "text": [
      "Microsoft Windows [Version 10.0.22621.1992]\r\n",
      "(c) Microsoft Corporation. All rights reserved.\r\n",
      "\r\n",
      "C:\\Users\\Priya\\face recognition>pip install cmake\n",
      "Requirement already satisfied: cmake in c:\\users\\priya\\anaconda3\\lib\\site-packages (3.27.0)\r\n",
      "\r\n",
      "C:\\Users\\Priya\\face recognition>"
     ]
    }
   ],
   "source": [
    "%%cmd\n",
    "pip install cmake"
   ]
  },
  {
   "cell_type": "code",
   "execution_count": 19,
   "id": "7c02371f",
   "metadata": {},
   "outputs": [
    {
     "name": "stdout",
     "output_type": "stream",
     "text": [
      "Microsoft Windows [Version 10.0.22621.1992]\r\n",
      "(c) Microsoft Corporation. All rights reserved.\r\n",
      "\r\n",
      "C:\\Users\\Priya\\face recognition>pip install \"C:\\Users\\Priya\\Downloads\\dlib-19.23.0-cp39-cp39-win_amd64.whl\"\n",
      "Processing c:\\users\\priya\\downloads\\dlib-19.23.0-cp39-cp39-win_amd64.whl\r\n",
      "dlib is already installed with the same version as the provided wheel. Use --force-reinstall to force an installation of the wheel.\r\n",
      "\r\n",
      "C:\\Users\\Priya\\face recognition>"
     ]
    }
   ],
   "source": [
    "%%cmd\n",
    "pip install \"C:\\Users\\Priya\\Downloads\\dlib-19.23.0-cp39-cp39-win_amd64.whl\""
   ]
  },
  {
   "cell_type": "code",
   "execution_count": 20,
   "id": "636664be",
   "metadata": {},
   "outputs": [
    {
     "name": "stdout",
     "output_type": "stream",
     "text": [
      "Microsoft Windows [Version 10.0.22621.1992]\r\n",
      "(c) Microsoft Corporation. All rights reserved.\r\n",
      "\r\n",
      "C:\\Users\\Priya\\face recognition>pip install face-recognition\n",
      "Requirement already satisfied: face-recognition in c:\\users\\priya\\anaconda3\\lib\\site-packages (1.3.0)\r\n",
      "Requirement already satisfied: face-recognition-models>=0.3.0 in c:\\users\\priya\\anaconda3\\lib\\site-packages (from face-recognition) (0.3.0)\r\n",
      "Requirement already satisfied: Click>=6.0 in c:\\users\\priya\\anaconda3\\lib\\site-packages (from face-recognition) (8.0.4)\r\n",
      "Requirement already satisfied: dlib>=19.7 in c:\\users\\priya\\anaconda3\\lib\\site-packages (from face-recognition) (19.23.0)\r\n",
      "Requirement already satisfied: numpy in c:\\users\\priya\\anaconda3\\lib\\site-packages (from face-recognition) (1.21.5)\r\n",
      "Requirement already satisfied: Pillow in c:\\users\\priya\\anaconda3\\lib\\site-packages (from face-recognition) (9.2.0)\r\n",
      "Requirement already satisfied: colorama in c:\\users\\priya\\anaconda3\\lib\\site-packages (from Click>=6.0->face-recognition) (0.4.5)\r\n",
      "\r\n",
      "C:\\Users\\Priya\\face recognition>"
     ]
    }
   ],
   "source": [
    "%%cmd\n",
    "pip install face-recognition"
   ]
  },
  {
   "cell_type": "code",
   "execution_count": 41,
   "id": "06d13d3c",
   "metadata": {},
   "outputs": [
    {
     "name": "stdout",
     "output_type": "stream",
     "text": [
      "Requirement already satisfied: cvzone in c:\\users\\priya\\anaconda3\\lib\\site-packages (1.5.6)\n",
      "Requirement already satisfied: opencv-python in c:\\users\\priya\\anaconda3\\lib\\site-packages (from cvzone) (4.8.0.74)\n",
      "Requirement already satisfied: numpy in c:\\users\\priya\\anaconda3\\lib\\site-packages (from cvzone) (1.21.5)\n"
     ]
    }
   ],
   "source": [
    "!pip install cvzone"
   ]
  },
  {
   "cell_type": "code",
   "execution_count": 1,
   "id": "2f6cc880",
   "metadata": {},
   "outputs": [],
   "source": [
    "import face_recognition"
   ]
  },
  {
   "cell_type": "code",
   "execution_count": 2,
   "id": "f394b5c3",
   "metadata": {},
   "outputs": [],
   "source": [
    "import os"
   ]
  },
  {
   "cell_type": "code",
   "execution_count": 3,
   "id": "89e2216f",
   "metadata": {},
   "outputs": [],
   "source": [
    "import numpy as np"
   ]
  },
  {
   "cell_type": "code",
   "execution_count": 4,
   "id": "635acc82",
   "metadata": {},
   "outputs": [],
   "source": [
    "import cv2"
   ]
  },
  {
   "cell_type": "code",
   "execution_count": 5,
   "id": "3ca9ace6",
   "metadata": {},
   "outputs": [],
   "source": [
    "import pickle"
   ]
  },
  {
   "cell_type": "code",
   "execution_count": 6,
   "id": "6ed12ad5",
   "metadata": {},
   "outputs": [],
   "source": [
    "import cvzone"
   ]
  },
  {
   "cell_type": "code",
   "execution_count": 7,
   "id": "88409ddc",
   "metadata": {},
   "outputs": [],
   "source": [
    "import firebase_admin\n",
    "from firebase_admin import credentials, firestore"
   ]
  },
  {
   "cell_type": "code",
   "execution_count": 8,
   "id": "c48c179f",
   "metadata": {},
   "outputs": [],
   "source": [
    "from firebase_admin import storage"
   ]
  },
  {
   "cell_type": "code",
   "execution_count": 9,
   "id": "a5b51e18",
   "metadata": {},
   "outputs": [],
   "source": [
    "from firebase_admin import db"
   ]
  },
  {
   "cell_type": "code",
   "execution_count": 10,
   "id": "95e33131",
   "metadata": {},
   "outputs": [],
   "source": [
    "from datetime import datetime"
   ]
  },
  {
   "cell_type": "code",
   "execution_count": 11,
   "id": "3a1e1409",
   "metadata": {},
   "outputs": [
    {
     "name": "stdout",
     "output_type": "stream",
     "text": [
      "loading encode file\n",
      "encode file loaded\n",
      "{'last_attendance_time': '2022-11-11 00:57:33', 'major': 'computer science', 'name': 'Priya Gulati', 'starting_year': 2022, 'total_attendance': 9, 'year': 2}\n",
      "{'last_attendance_time': '2023-08-28 11:33:07', 'major': 'computer science', 'name': 'Priya Gulati', 'starting_year': 2022, 'total_attendance': 10, 'year': 2}\n",
      "{'last_attendance_time': '2023-08-28 11:33:07', 'major': 'computer science', 'name': 'Priya Gulati', 'starting_year': 2022, 'total_attendance': 10, 'year': 2}\n"
     ]
    }
   ],
   "source": [
    "try:\n",
    "    app = firebase_admin.get_app()\n",
    "except:\n",
    "    cred = credentials.Certificate(\"serviceAccountKey.json\")\n",
    "    firebase_admin.initialize_app(cred, {\"databaseURL\": \"https://faceattendancesystem-b673f-default-rtdb.firebaseio.com/\",\n",
    "                                        \"storageBucket\": \"faceattendancesystem-b673f.appspot.com\"})\n",
    "\n",
    "bucket = storage.bucket()\n",
    "\n",
    "cap = cv2.VideoCapture(0)\n",
    "cap.set(3, 640)\n",
    "cap.set(4, 480)\n",
    "\n",
    "imgBackground = cv2.imread(\"C:\\\\Users\\\\Priya\\\\face recognition\\\\Resources\\\\background.png\")\n",
    "\n",
    "# IMPORTING THE MODE IMAGES INTO A LIST\n",
    "folderModePath = \"C:\\\\Users\\\\Priya\\\\face recognition\\\\Resources\\\\Modes\"\n",
    "modePathList = os.listdir(folderModePath)\n",
    "imgModeList = []\n",
    "\n",
    "for path in modePathList:\n",
    "    imgModeList.append(cv2.imread(os.path.join(folderModePath,path)))\n",
    "\n",
    "# LOAD THE ENCODING FILE\n",
    "print(\"loading encode file\")\n",
    "file = open('encodeFile.p','rb')\n",
    "encodeListWithID = pickle.load(file)\n",
    "file.close()\n",
    "encodeListKnown, studentIds = encodeListWithID\n",
    "# print(studentId)\n",
    "print(\"encode file loaded\")\n",
    "\n",
    "    \n",
    "modeType = 0   \n",
    "counter = 0\n",
    "id = -1\n",
    "imgStudent = []\n",
    "students = \"https://faceattendancesystem-b673f-default-rtdb.firebaseio.com/\"\n",
    "\n",
    "while True:\n",
    "    success, img = cap.read()\n",
    "    \n",
    "    # none is a parameter of dst. if none is provided a new image will be created for the ouput\n",
    "    # 0.25 are the scaling factors, which means the image will be reduced to one fourth of size \n",
    "    imgS = cv2.resize(img,(0,0),None,0.25,0.25)\n",
    "    imgs = cv2.cvtColor(img,cv2.COLOR_BGR2RGB)\n",
    "    \n",
    "    # DETECT THE FACE FROM THE IMAGE\n",
    "    faceCurFrame = face_recognition.face_locations(imgS)\n",
    "    \n",
    "    # COMPUTE THE FACE ENCODINGS (FACIAL FEATURES) FROM THE FACE\n",
    "    encodeCurFrame = face_recognition.face_encodings(imgS,faceCurFrame)\n",
    "    \n",
    "    imgBackground[162: 162 + 480, 55: 55 + 640] = img\n",
    "    imgBackground[44: 44 + 633, 808: 808 + 414] = imgModeList[modeType]\n",
    "    \n",
    "    if faceCurFrame:\n",
    "        for encodeFace, faceLoc in zip(encodeCurFrame, faceCurFrame):\n",
    "            matches = face_recognition.compare_faces(encodeListKnown, encodeFace)\n",
    "            faceDist = face_recognition.face_distance(encodeListKnown, encodeFace)\n",
    "             #print(\"matches\", matches)\n",
    "             #print(\"face distance\", faceDist)\n",
    "\n",
    "            matchIdx = np.argmin(faceDist)\n",
    "             #print(\"match index\", matchIdx)\n",
    "\n",
    "            if matches[matchIdx]:\n",
    "                 # print(\"known face detected\")\n",
    "                 # print(studentIds[matchIdx]) \n",
    "                y1, x2, y2, x1 = faceLoc\n",
    "                y1, x2, y2, x1 = y1*4, x2*4, y2*4, x1*4\n",
    "                \n",
    "                #(x, y, width, height)\n",
    "                bbox = 55 + x1, 162 + y1, x2 - x1, y2 - y1\n",
    "                imgBackground = cvzone.cornerRect(imgBackground,bbox,rt=0)\n",
    "                id = studentIds[matchIdx]\n",
    "\n",
    "                if counter == 0:\n",
    "                    counter = 1\n",
    "                    modeType = 1\n",
    "\n",
    "        if counter != 0:\n",
    "            if counter == 1:\n",
    "                # GET THE DATA\n",
    "                studentInfo = db.reference(f'students/{id}').get()\n",
    "                print(studentInfo)\n",
    "\n",
    "                # UPDATE THE DATA OF ATTENDANCE\n",
    "                datetimeObject = datetime.strptime(studentInfo['last_attendance_time'],\"%Y-%m-%d %H:%M:%S\")\n",
    "                secondsElapsed = (datetime.now() - datetimeObject).total_seconds()\n",
    "\n",
    "                if secondsElapsed > 30:\n",
    "                    ref = db.reference(f'students/{id}')\n",
    "                    studentInfo['total_attendance'] += 1\n",
    "                    ref.child('total_attendance').set(studentInfo['total_attendance'])\n",
    "                    ref.child('last_attendance_time').set(datetime.now().strftime(\"%Y-%m-%d %H:%M:%S\"))\n",
    "\n",
    "                else:\n",
    "                    modeType = 3\n",
    "                    counter = 0\n",
    "                    imgBackground[44: 44 + 633, 808: 808 + 414] = imgModeList[modeType]\n",
    "\n",
    "            if modeType != 3:\n",
    "                if 10 < counter < 20:\n",
    "                    modeType = 2\n",
    "                    imgBackground[44: 44 + 633, 808: 808 + 414] = imgModeList[modeType]\n",
    "\n",
    "                if counter <= 10:\n",
    "                    cv2.putText(imgBackground,str(studentInfo['total_attendance']),(861,125),cv2.FONT_HERSHEY_COMPLEX, 1, (255, 255, 255), 1)\n",
    "                    cv2.putText(imgBackground,str(studentInfo['name']),(808,445),cv2.FONT_HERSHEY_COMPLEX, 1, (50, 50, 50), 1)\n",
    "                    cv2.putText(imgBackground,str(studentInfo['major']),(1006,550),cv2.FONT_HERSHEY_COMPLEX, 0.4, (255, 255, 255), 1)\n",
    "                    cv2.putText(imgBackground,str(id),(1006,493),cv2.FONT_HERSHEY_COMPLEX, 0.5, (255, 255, 255), 1)\n",
    "                    cv2.putText(imgBackground, str(studentInfo['year']), (1025, 625), cv2.FONT_HERSHEY_COMPLEX, 0.6, (100, 100, 100), 1)\n",
    "                    cv2.putText(imgBackground, str(studentInfo['starting_year']), (1125, 625),cv2.FONT_HERSHEY_COMPLEX, 0.6, (100, 100, 100), 1)\n",
    "\n",
    "\n",
    "                counter += 1\n",
    "\n",
    "                if counter >= 20:\n",
    "                    counter = 0\n",
    "                    modeType = 0\n",
    "                    studentInfo = []\n",
    "                    imgBackground[44: 44 + 633, 808: 808 + 414] = imgModeList[modeType]\n",
    "\n",
    "    else:\n",
    "        modeType = 0\n",
    "        counter = 0\n",
    "        \n",
    "    \n",
    "    cv2.imshow(\"face attendance\",imgBackground)\n",
    "    cv2.waitKey(1)\n",
    "    \n",
    "    if cv2.waitKey(1) == 27:\n",
    "        break\n",
    "\n",
    "cap.release()  \n",
    "cv2.destroyAllWindows()  "
   ]
  },
  {
   "cell_type": "code",
   "execution_count": null,
   "id": "c7803768",
   "metadata": {},
   "outputs": [],
   "source": []
  }
 ],
 "metadata": {
  "kernelspec": {
   "display_name": "Python 3 (ipykernel)",
   "language": "python",
   "name": "python3"
  },
  "language_info": {
   "codemirror_mode": {
    "name": "ipython",
    "version": 3
   },
   "file_extension": ".py",
   "mimetype": "text/x-python",
   "name": "python",
   "nbconvert_exporter": "python",
   "pygments_lexer": "ipython3",
   "version": "3.9.13"
  }
 },
 "nbformat": 4,
 "nbformat_minor": 5
}
